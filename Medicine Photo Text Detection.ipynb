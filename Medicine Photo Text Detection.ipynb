{
 "cells": [
  {
   "cell_type": "code",
   "execution_count": 4,
   "metadata": {},
   "outputs": [
    {
     "name": "stderr",
     "output_type": "stream",
     "text": [
      "Using CPU. Note: This module is much faster with a GPU.\n"
     ]
    }
   ],
   "source": [
    "# importing dependeinces\n",
    "import easyocr\n",
    "import cv2\n",
    "import numpy as np\n",
    "from matplotlib import pyplot as plt\n",
    "\n",
    "# Define the image path (medicine photo)\n",
    "IMAGE_PATH = '2.jpg'\n",
    "\n",
    "# Initialize EasyOCR reader (assuming text is in English)\n",
    "reader = easyocr.Reader(['en'], gpu=False)\n",
    "\n",
    "# Read the text from the image\n",
    "result = reader.readtext(IMAGE_PATH)\n",
    "\n",
    "# Initialize a list to store detected text\n",
    "detected_text_list = []\n",
    "\n",
    "# Load the image using OpenCV\n",
    "img = cv2.imread(IMAGE_PATH)\n",
    "\n",
    "# Draw bounding boxes and display text on the image\n",
    "for detection in result:\n",
    "    # Extract top-left and bottom-right coordinates of the bounding box\n",
    "    top_left = tuple([int(val) for val in detection[0][0]])\n",
    "    bottom_right = tuple([int(val) for val in detection[0][2]])\n",
    "    \n",
    "    # Extract the recognized text\n",
    "    text = detection[1]\n",
    "\n",
    "    # Append the detected text to the list for further processing\n",
    "    detected_text_list.append(text)\n",
    "    \n",
    "    # Define font for the text display\n",
    "    font = cv2.FONT_HERSHEY_SIMPLEX\n",
    "    \n",
    "    # Draw the bounding box around the detected text\n",
    "    img = cv2.rectangle(img, top_left, bottom_right, (0, 255, 0), 5)\n",
    "    \n",
    "    # Put the text inside the bounding box\n",
    "    img = cv2.putText(img, text, top_left, font, 1, (255, 255, 255), 2, cv2.LINE_AA)\n",
    "\n",
    "# Display the image with bounding boxes and text using Matplotlib\n",
    "plt.figure(figsize=(10, 10))\n",
    "plt.imshow(cv2.cvtColor(img, cv2.COLOR_BGR2RGB))  # Convert BGR to RGB for plt\n",
    "plt.title(\"Detected Text on Medicine Photo\")\n",
    "plt.show()\n",
    "\n",
    "# Print out the detected text for further processing\n",
    "print(\"Detected Text:\")\n",
    "for text in detected_text_list:\n",
    "    print(text)"
   ]
  },
  {
   "cell_type": "code",
   "execution_count": null,
   "metadata": {},
   "outputs": [],
   "source": []
  }
 ],
 "metadata": {
  "kernelspec": {
   "display_name": "Python 3",
   "language": "python",
   "name": "python3"
  },
  "language_info": {
   "codemirror_mode": {
    "name": "ipython",
    "version": 3
   },
   "file_extension": ".py",
   "mimetype": "text/x-python",
   "name": "python",
   "nbconvert_exporter": "python",
   "pygments_lexer": "ipython3",
   "version": "3.11.9"
  }
 },
 "nbformat": 4,
 "nbformat_minor": 2
}
